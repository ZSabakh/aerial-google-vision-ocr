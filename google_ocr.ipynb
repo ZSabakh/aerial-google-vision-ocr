{
 "cells": [
  {
   "cell_type": "code",
   "execution_count": 32,
   "outputs": [],
   "source": [
    "## Importing necessary libraries\n",
    "import cv2\n",
    "from google.cloud import storage\n",
    "from google.cloud import vision\n",
    "import os"
   ],
   "metadata": {
    "collapsed": false,
    "pycharm": {
     "name": "#%%\n"
    }
   }
  },
  {
   "cell_type": "markdown",
   "source": [
    "### Initializing Google Bucket"
   ],
   "metadata": {
    "collapsed": false,
    "pycharm": {
     "name": "#%% md\n"
    }
   },
  },
  {
   "cell_type": "code",
   "execution_count": 33,
   "outputs": [],
   "source": [
    "bucket_name = 'atu-ocr'\n",
    "storage_client = storage.Client()\n",
    "bucket = storage_client.bucket(bucket_name)\n",
    "if not bucket.exists():\n",
    "    bucket = storage_client.create_bucket(bucket_name)\n",
    "else:\n",
    "    bucket = storage_client.get_bucket(bucket.name)"
   ],
   "metadata": {
    "collapsed": false,
    "pycharm": {
     "name": "#%%\n"
    }
   }
  },
  {
   "cell_type": "markdown",
   "source": [
    "## Utility functions"
   ],
   "metadata": {
    "collapsed": false,
    "pycharm": {
     "name": "#%% md\n"
    }
   }
  },
  {
   "cell_type": "markdown",
   "source": [
    "### Extracting left and right labels from the given image."
   ],
   "metadata": {
    "collapsed": false,
    "pycharm": {
     "name": "#%% md\n"
    }
   }
  },
  {
   "cell_type": "code",
   "execution_count": 34,
   "outputs": [],
   "source": [
    "def get_labels(img):\n",
    "    # Resolutions may vary. Need to adjust according to the given dataset.\n",
    "    left_label = img[0:300, 0:1000]\n",
    "    right_label = img[0:300, 4000:img.shape[1]]\n",
    "    return left_label, right_label"
   ],
   "metadata": {
    "collapsed": false,
    "pycharm": {
     "name": "#%%\n"
    }
   }
  },
  {
   "cell_type": "markdown",
   "source": [
    "### Extracting text from given image. Parameter \"uri\" is the Google Cloud Storage URI of the image."
   ],
   "metadata": {
    "collapsed": false,
    "pycharm": {
     "name": "#%% md\n"
    }
   }
  },
  {
   "cell_type": "code",
   "execution_count": 35,
   "outputs": [],
   "source": [
    "def detect_text_uri(uri):\n",
    "    # Taken from Google Cloud Vision API documentation\n",
    "    \"\"\"Detects text in the file located in Google Cloud Storage or on the Web.\n",
    "    \"\"\"\n",
    "    client = vision.ImageAnnotatorClient()\n",
    "    image = vision.Image()\n",
    "    image.source.image_uri = uri\n",
    "\n",
    "    response = client.text_detection(image=image)\n",
    "    texts = response.text_annotations\n",
    "\n",
    "    if response.error.message:\n",
    "        raise Exception(\n",
    "            '{}\\nFor more info on error messages, check: '\n",
    "            'https://cloud.google.com/apis/design/errors'.format(\n",
    "                response.error.message))\n",
    "    return texts[0].description"
   ],
   "metadata": {
    "collapsed": false,
    "pycharm": {
     "name": "#%%\n"
    }
   }
  },
  {
   "cell_type": "markdown",
   "source": [
    "### Correcting OCR errors in right label text."
   ],
   "metadata": {
    "collapsed": false,
    "pycharm": {
     "name": "#%% md\n"
    }
   }
  },
  {
   "cell_type": "code",
   "execution_count": 36,
   "outputs": [],
   "source": [
    "def validate_right_label(right_label_text):\n",
    "    # Right label text should match TTT-NT-NN format\n",
    "    # Where T is a letter and N is a number.\n",
    "    # If string is not resembling format, we need to further process it and correct OCR errors\n",
    "    resembling_characters = {\n",
    "        'G': '0',\n",
    "        'I': '1',\n",
    "    }\n",
    "    # Needs substantial improvement\n",
    "    right_label_numbers = list(right_label_text[4:5] + right_label_text[-2:])\n",
    "    right_label_letters = list(right_label_text[0:3] + right_label_text[5:6])\n",
    "    # Replacing resembling characters, searching using keys when replacing letters\n",
    "\n",
    "    for i in range(len(right_label_numbers)):\n",
    "        if right_label_numbers[i] in resembling_characters.keys():\n",
    "            right_label_numbers[i] = resembling_characters[right_label_numbers[i]]\n",
    "    for i in range(len(right_label_letters)):\n",
    "        if right_label_letters[i] in resembling_characters.values():\n",
    "            right_label_letters[i] = list(resembling_characters.keys())[\n",
    "                list(resembling_characters.values()).index(right_label_letters[i])]\n",
    "    right_label_numbers = ''.join(right_label_numbers)\n",
    "    right_label_letters = ''.join(right_label_letters)\n",
    "\n",
    "    # Reassembling correct format\n",
    "    right_label_text = right_label_letters[0:3] + '-' + right_label_numbers[0] + right_label_letters[\n",
    "        3] + '-' + right_label_numbers[1:3]\n",
    "    return right_label_text"
   ],
   "metadata": {
    "collapsed": false,
    "pycharm": {
     "name": "#%%\n"
    }
   }
  },
  {
   "cell_type": "markdown",
   "source": [
    "### Iterating over files in \"data\" folder"
   ],
   "metadata": {
    "collapsed": false,
    "pycharm": {
     "name": "#%% md\n"
    }
   }
  },
  {
   "cell_type": "code",
   "execution_count": 37,
   "outputs": [
    {
     "name": "stdout",
     "output_type": "stream",
     "text": [
      "Processing: input\\SKM_650i22091007170_0002.jpg\n",
      "Left label: 1-16-'50\n",
      "Right label: BPU-1G-03\n",
      "\n",
      "Processing: input\\SKM_650i22100509110_0004.jpg\n",
      "Left label: 4-15-'50\n",
      "Right label: BPU-3G-17\n",
      "\n",
      "Processing: input\\SKM_650i22100510530_0004.jpg\n",
      "Left label: 4-15-50\n",
      "Right label: BPU-4G-05\n",
      "\n",
      "File processing completed.\n"
     ]
    }
   ],
   "source": [
    "for file_name in os.listdir('input'):\n",
    "    try:\n",
    "        file_name = os.path.join('input', file_name)\n",
    "        print(\"Processing: \" + file_name)\n",
    "        img = cv2.imread(file_name)\n",
    "        # Cropping out right label area and left label area as separate pictures.\n",
    "        left_label_img, right_label_img = get_labels(img)\n",
    "        cv2.imwrite('left_label.jpg', left_label_img)\n",
    "        cv2.imwrite('right_label.jpg', right_label_img)\n",
    "\n",
    "        # Uploading temporary cropped out pictures to Google Cloud Storage for further processing.\n",
    "        blob = bucket.blob(\"left_label.jpg\")\n",
    "        blob.upload_from_filename(\"left_label.jpg\")\n",
    "        blob = bucket.blob(\"right_label.jpg\")\n",
    "        blob.upload_from_filename(\"right_label.jpg\")\n",
    "        left_label_gs_uri, right_label_gs_uri = 'gs://' + bucket_name + '/left_label.jpg', 'gs://' + bucket_name + '/right_label.jpg'\n",
    "\n",
    "        # Running Google Cloud Vision OCR API to extract text from two labels.\n",
    "        left_label_text, right_label_text = detect_text_uri(left_label_gs_uri), detect_text_uri(right_label_gs_uri)\n",
    "        right_label_text = validate_right_label(right_label_text)\n",
    "        print(\"Left label: \" + left_label_text)\n",
    "        print(\"Right label: \" + right_label_text + '\\n')\n",
    "\n",
    "        # Renaming original files with extracted labels.\n",
    "        file_name = left_label_text + \" && \" + right_label_text + \".\" + file_name.split('.')[1]\n",
    "        # Saving file to output folder\n",
    "        cv2.imwrite(os.path.join('output', file_name), img)\n",
    "\n",
    "        # Deleting temporary files.\n",
    "        os.remove('left_label.jpg')\n",
    "        os.remove('right_label.jpg')\n",
    "\n",
    "    except Exception as e:\n",
    "        print(\"Error processing: \" + file_name)\n",
    "        print(e)\n",
    "        continue\n",
    "\n",
    "print(\"File processing completed.\")"
   ],
   "metadata": {
    "collapsed": false,
    "pycharm": {
     "name": "#%%\n"
    }
   }
  }
 ],
 "metadata": {
  "kernelspec": {
   "display_name": "Python 3",
   "language": "python",
   "name": "python3"
  },
  "language_info": {
   "codemirror_mode": {
    "name": "ipython",
    "version": 2
   },
   "file_extension": ".py",
   "mimetype": "text/x-python",
   "name": "python",
   "nbconvert_exporter": "python",
   "pygments_lexer": "ipython2",
   "version": "2.7.6"
  }
 },
 "nbformat": 4,
 "nbformat_minor": 0
}