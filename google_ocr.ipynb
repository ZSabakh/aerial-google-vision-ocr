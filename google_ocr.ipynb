{
 "cells": [
  {
   "cell_type": "code",
   "execution_count": null,
   "metadata": {
    "collapsed": false,
    "pycharm": {
     "name": "#%%\n"
    }
   },
   "outputs": [],
   "source": [
    "## Importing necessary libraries\n",
    "import cv2\n",
    "from google.cloud import storage\n",
    "from google.cloud import vision\n",
    "import os\n",
    "import pandas as pd \n",
    "import re"
   ]
  },
  {
   "cell_type": "markdown",
   "metadata": {
    "collapsed": false,
    "pycharm": {
     "name": "#%% md\n"
    }
   },
   "source": [
    "### Initializing Google Bucket"
   ]
  },
  {
   "cell_type": "code",
   "execution_count": null,
   "metadata": {
    "collapsed": false,
    "pycharm": {
     "name": "#%%\n"
    }
   },
   "outputs": [],
   "source": [
    "bucket_name = 'atu-ocr'\n",
    "storage_client = storage.Client()\n",
    "bucket = storage_client.bucket(bucket_name)\n",
    "if not bucket.exists():\n",
    "    bucket = storage_client.create_bucket(bucket_name)\n",
    "else:\n",
    "    bucket = storage_client.get_bucket(bucket.name)"
   ]
  },
  {
   "cell_type": "markdown",
   "metadata": {
    "collapsed": false,
    "pycharm": {
     "name": "#%% md\n"
    }
   },
   "source": [
    "## Utility functions"
   ]
  },
  {
   "cell_type": "markdown",
   "metadata": {
    "collapsed": false,
    "pycharm": {
     "name": "#%% md\n"
    }
   },
   "source": [
    "### Extracting left and right labels from the given image."
   ]
  },
  {
   "cell_type": "code",
   "execution_count": null,
   "metadata": {
    "collapsed": false,
    "pycharm": {
     "name": "#%%\n"
    }
   },
   "outputs": [],
   "source": [
    "def get_labels(img):\n",
    "    # Resolutions may vary. Need to adjust according to the given dataset.\n",
    "    left_label = img[50:330, 50:1200]\n",
    "    right_label = img[50:350, 3900:img.shape[1]]\n",
    "    return left_label, right_label"
   ]
  },
  {
   "cell_type": "markdown",
   "metadata": {
    "collapsed": false,
    "pycharm": {
     "name": "#%% md\n"
    }
   },
   "source": [
    "### Extracting text from given image. Parameter \"uri\" is the Google Cloud Storage URI of the image."
   ]
  },
  {
   "cell_type": "code",
   "execution_count": null,
   "metadata": {
    "collapsed": false,
    "pycharm": {
     "name": "#%%\n"
    }
   },
   "outputs": [],
   "source": [
    "def detect_text_uri(uri):\n",
    "    # Taken from Google Cloud Vision API documentation\n",
    "    \"\"\"Detects text in the file located in Google Cloud Storage or on the Web.\n",
    "    \"\"\"\n",
    "    client = vision.ImageAnnotatorClient()\n",
    "    image = vision.Image()\n",
    "    image.source.image_uri = uri\n",
    "\n",
    "    response = client.text_detection(image=image)\n",
    "    texts = response.text_annotations\n",
    "\n",
    "    if response.error.message:\n",
    "        raise Exception(\n",
    "            '{}\\nFor more info on error messages, check: '\n",
    "            'https://cloud.google.com/apis/design/errors'.format(\n",
    "                response.error.message))\n",
    "    return texts[0].description"
   ]
  },
  {
   "cell_type": "markdown",
   "metadata": {
    "collapsed": false,
    "pycharm": {
     "name": "#%% md\n"
    }
   },
   "source": [
    "### Correcting OCR errors in right label text."
   ]
  },
  {
   "cell_type": "code",
   "execution_count": null,
   "metadata": {
    "collapsed": false,
    "pycharm": {
     "name": "#%%\n"
    }
   },
   "outputs": [],
   "source": [
    "def validate_right_label(right_label_text):\n",
    "    try:\n",
    "        # Removes extra noise from right label text\n",
    "        label = re.sub(r\"^[^A-Z]*\", \"\", right_label_text)\n",
    "        # Desired Format - [Alphabetical Character - 2 or 3]-[One Number followed by One Alphabetical Character]-[Number - 1 to 3]\n",
    "        confused_characters = {\n",
    "            'G': '0',\n",
    "            'I': '1',\n",
    "        }\n",
    "        # At this point, label may be read like this: IN-3B 166\n",
    "        # Before splitting, adding hyphens to the label\n",
    "        label = label.replace(' ', '-')\n",
    "        \n",
    "        first_part = label.split('-')[0]\n",
    "        second_part = label.split('-')[1]\n",
    "        third_part = label.split('-')[2]\n",
    "        #In first part, all should be alphabeticals (alphabetical char is key, number that may need to be replaced is value)\n",
    "        for i in range(len(first_part)):\n",
    "            if first_part[i] in confused_characters.values():\n",
    "                first_part = first_part.replace(first_part[i], list(confused_characters.keys())[list(confused_characters.values()).index(first_part[i])])\n",
    "        #In second part, first should be a number, second should be an alphabetical character\n",
    "        for i in range(len(second_part)):\n",
    "            if i == 0:\n",
    "                if second_part[i] in confused_characters.keys():\n",
    "                    second_part = second_part.replace(second_part[i], confused_characters[second_part[i]])\n",
    "            else:\n",
    "                if second_part[i] in confused_characters.values():\n",
    "                    second_part = second_part.replace(second_part[i], list(confused_characters.keys())[list(confused_characters.values()).index(second_part[i])])\n",
    "        #In third part, all should be numbers\n",
    "        for i in range(len(third_part)):\n",
    "            if third_part[i] in confused_characters.keys():\n",
    "                third_part = third_part.replace(third_part[i], confused_characters[third_part[i]])\n",
    "\n",
    "        if len(first_part) < 2 or len(second_part) < 1 or len(third_part) < 1:\n",
    "            raise Exception(\"Right label is not in the correct format\")\n",
    "        \n",
    "        return first_part + '-' + second_part + '-' + third_part\n",
    "    except Exception as e:\n",
    "        print(\"Exception: \" + str(e))\n",
    "        return \"Error\""
   ]
  },
  {
   "cell_type": "markdown",
   "metadata": {},
   "source": [
    "### Correcting OCR errors in left label text."
   ]
  },
  {
   "cell_type": "code",
   "execution_count": null,
   "metadata": {},
   "outputs": [],
   "source": [
    "def validate_left_label(left_label_text):\n",
    "    #Removes all newlines and carriage returns\n",
    "    left_label_text = re.sub(r'\\n|\\r', '', left_label_text)\n",
    "    left_label_text = left_label_text.replace(\"'\", \"\")\n",
    "    #Replaces whitespace with hyphen\n",
    "    left_label_text = left_label_text.replace(' ', '-')\n",
    "    \n",
    "    return left_label_text"
   ]
  },
  {
   "cell_type": "markdown",
   "metadata": {
    "collapsed": false,
    "pycharm": {
     "name": "#%% md\n"
    }
   },
   "source": [
    "### Iterating over files in \"data\" folder"
   ]
  },
  {
   "cell_type": "code",
   "execution_count": null,
   "metadata": {
    "collapsed": false,
    "pycharm": {
     "name": "#%%\n"
    }
   },
   "outputs": [],
   "source": [
    "df = pd.DataFrame(columns=['filename', 'left_label', 'right_label'])\n",
    "for file_name in os.listdir('input'):\n",
    "    try:\n",
    "        original_file_name = file_name\n",
    "        file_name = os.path.join('input', file_name)\n",
    "        print(\"Processing: \" + file_name)\n",
    "        img = cv2.imread(file_name)\n",
    "        # Cropping out right label area and left label area as separate pictures.\n",
    "        left_label_img, right_label_img = get_labels(img)\n",
    "        cv2.imwrite('left_label.jpg', left_label_img)\n",
    "        cv2.imwrite('right_label.jpg', right_label_img)\n",
    "\n",
    "        # Uploading temporary cropped out pictures to Google Cloud Storage for further processing.\n",
    "        blob = bucket.blob(\"left_label.jpg\")\n",
    "        blob.upload_from_filename(\"left_label.jpg\")\n",
    "        blob = bucket.blob(\"right_label.jpg\")\n",
    "        blob.upload_from_filename(\"right_label.jpg\")\n",
    "        left_label_gs_uri, right_label_gs_uri = 'gs://' + bucket_name + '/left_label.jpg', 'gs://' + bucket_name + '/right_label.jpg'\n",
    "\n",
    "        # Running Google Cloud Vision OCR API to extract text from two labels.\n",
    "        left_label_text, right_label_text = detect_text_uri(left_label_gs_uri), detect_text_uri(right_label_gs_uri)\n",
    "        left_label_text = validate_left_label(left_label_text)\n",
    "        right_label_text = validate_right_label(right_label_text)\n",
    "        print(\"Left label: \" + left_label_text)\n",
    "        print(\"Right label: \" + right_label_text + '\\n')\n",
    "\n",
    "        # Renaming original files with extracted labels.\n",
    "        df = pd.concat([df, pd.DataFrame([[original_file_name, left_label_text, right_label_text]], columns=['filename', 'left_label', 'right_label'])])\n",
    "        file_name = left_label_text + \" && \" + right_label_text + \".\" + file_name.split('.')[1]\n",
    "        # Saving file to output folder\n",
    "        cv2.imwrite(os.path.join('output', file_name), img)\n",
    "\n",
    "        # Deleting temporary files.\n",
    "        os.remove('left_label.jpg')\n",
    "        os.remove('right_label.jpg')\n",
    "\n",
    "    except Exception as e:\n",
    "        print(\"Error processing: \" + file_name)\n",
    "        print(e)\n",
    "        continue"
   ]
  },
  {
   "cell_type": "code",
   "execution_count": null,
   "metadata": {},
   "outputs": [],
   "source": [
    "df.to_csv('./test/google_ocr_results.csv', index=False)\n",
    "print(\"File processing completed.\")"
   ]
  }
 ],
 "metadata": {
  "kernelspec": {
   "display_name": "Python 3",
   "language": "python",
   "name": "python3"
  },
  "language_info": {
   "codemirror_mode": {
    "name": "ipython",
    "version": 3
   },
   "file_extension": ".py",
   "mimetype": "text/x-python",
   "name": "python",
   "nbconvert_exporter": "python",
   "pygments_lexer": "ipython3",
   "version": "3.9.13"
  }
 },
 "nbformat": 4,
 "nbformat_minor": 0
}
