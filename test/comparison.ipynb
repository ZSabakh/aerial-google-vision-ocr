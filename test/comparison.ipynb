{
 "cells": [
  {
   "cell_type": "code",
   "execution_count": null,
   "metadata": {
    "collapsed": false,
    "pycharm": {
     "name": "#%%\n"
    }
   },
   "outputs": [],
   "source": [
    "import pandas as pd\n",
    "\n",
    "manual_results = pd.read_csv('manual_results.csv')\n",
    "google_ocr_results = pd.read_csv('google_ocr_results.csv')\n",
    "pytesseract_results = pd.read_csv('pytesseract_ocr_results.csv')"
   ]
  },
  {
   "cell_type": "code",
   "execution_count": null,
   "metadata": {},
   "outputs": [],
   "source": [
    "def calculate_characters_accuracy(correct_label, detected_label):\n",
    "    correct_chars = sum([1 for i, c in enumerate(correct_label) if i < len(detected_label) and c == detected_label[i]])\n",
    "    total_chars = len(correct_label)\n",
    "    return correct_chars / total_chars\n",
    "\n",
    "\n",
    "def calculate_accuracy(ocr_results, ocr_method):\n",
    "    left_misidentified = []\n",
    "    right_misidentified = []\n",
    "\n",
    "    total_files = len(manual_results)\n",
    "    correct_left_labels_count = 0\n",
    "    correct_right_labels_count = 0\n",
    "    left_chars_accuracy_sum = 0\n",
    "    right_chars_accuracy_sum = 0\n",
    "\n",
    "    for index, row in manual_results.iterrows():\n",
    "        ocr_row = ocr_results.loc[ocr_results['filename'] == row['filename']]\n",
    "\n",
    "        left_label_detected = ocr_row.iloc[0]['left_label']\n",
    "        right_label_detected = ocr_row.iloc[0]['right_label']\n",
    "\n",
    "        if row['left_label'] == left_label_detected:\n",
    "            correct_left_labels_count += 1\n",
    "        else:\n",
    "            left_misidentified.append({'filename': row['filename'], 'expected': row['left_label'], 'actual': left_label_detected})\n",
    "\n",
    "        if row['right_label'] == right_label_detected:\n",
    "            correct_right_labels_count += 1\n",
    "        else:\n",
    "            right_misidentified.append({'filename': row['filename'], 'expected': row['right_label'], 'actual': right_label_detected})\n",
    "\n",
    "        left_chars_accuracy_sum += calculate_characters_accuracy(row['left_label'], left_label_detected)\n",
    "        right_chars_accuracy_sum += calculate_characters_accuracy(row['right_label'], right_label_detected)\n",
    "\n",
    "    left_accuracy = (correct_left_labels_count / total_files) * 100\n",
    "    right_accuracy = (correct_right_labels_count / total_files) * 100\n",
    "    left_chars_accuracy_avg = (left_chars_accuracy_sum / total_files) * 100\n",
    "    right_chars_accuracy_avg = (right_chars_accuracy_sum / total_files) * 100\n",
    "\n",
    "    print(f\"{ocr_method} OCR has {left_accuracy:.2f}% accuracy on left label and {right_accuracy:.2f}% accuracy for right label.\")\n",
    "    print(f\"{ocr_method} OCR has {left_chars_accuracy_avg:.2f}% character-level accuracy on left label and {right_chars_accuracy_avg:.2f}% character-level accuracy for right label.\\n\")\n",
    "\n",
    "    print(\"Left labels misidentified:\")\n",
    "    for misidentified in left_misidentified:\n",
    "        print(f\"Filename: {misidentified['filename']}\\nExpected value: {misidentified['expected']}\\nActual value: {misidentified['actual']}\\n\")\n",
    "\n",
    "    print(\"Right labels misidentified:\")\n",
    "    for misidentified in right_misidentified:\n",
    "        print(f\"Filename: {misidentified['filename']}\\nExpected value: {misidentified['expected']}\\nActual value: {misidentified['actual']}\\n\")"
   ]
  },
  {
   "cell_type": "markdown",
   "metadata": {
    "collapsed": false,
    "pycharm": {
     "name": "#%%\n"
    }
   },
   "source": [
    "### Google OCR evaluation"
   ]
  },
  {
   "cell_type": "code",
   "execution_count": null,
   "metadata": {},
   "outputs": [],
   "source": [
    "calculate_accuracy(google_ocr_results, \"Google\")"
   ]
  },
  {
   "cell_type": "markdown",
   "metadata": {},
   "source": [
    "### Tesseract OCR evaluation"
   ]
  },
  {
   "cell_type": "code",
   "execution_count": null,
   "metadata": {},
   "outputs": [],
   "source": [
    "calculate_accuracy(pytesseract_results, \"Pytesseract\")"
   ]
  }
 ],
 "metadata": {
  "kernelspec": {
   "display_name": "Python 3",
   "language": "python",
   "name": "python3"
  },
  "language_info": {
   "codemirror_mode": {
    "name": "ipython",
    "version": 3
   },
   "file_extension": ".py",
   "mimetype": "text/x-python",
   "name": "python",
   "nbconvert_exporter": "python",
   "pygments_lexer": "ipython3",
   "version": "3.9.13"
  }
 },
 "nbformat": 4,
 "nbformat_minor": 0
}
